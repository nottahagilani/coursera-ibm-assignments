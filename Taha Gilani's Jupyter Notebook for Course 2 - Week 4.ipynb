{
 "cells": [
  {
   "cell_type": "markdown",
   "id": "c8d1ca47",
   "metadata": {},
   "source": [
    "# My Jupyter Notebook Locally (Watson Studio did not workout)"
   ]
  },
  {
   "cell_type": "markdown",
   "id": "81a47338",
   "metadata": {},
   "source": [
    "##### I was suggested to do this assignment this [here](https://www.coursera.org/learn/open-source-tools-for-data-science/discussions/weeks/3/threads/eFfLNdD_Eey8MQpu6643JQ/replies/uUg-9dEZEey8MQpu6643JQ/comments/j5ldmdE0EeywCxJsGlAdXQ)"
   ]
  },
  {
   "cell_type": "markdown",
   "id": "41de064a",
   "metadata": {},
   "source": [
    "**Syed Taha Bilal Gilani** <br>\n",
    "Software Developer"
   ]
  },
  {
   "cell_type": "markdown",
   "id": "df11aec4",
   "metadata": {},
   "source": [
    "*I am interested in data sciences* <br>\n",
    "- *I find the concepts very interesting and fresh* \n",
    "- *In hopes of better career outcomes*"
   ]
  },
  {
   "cell_type": "markdown",
   "id": "5526be9f",
   "metadata": {},
   "source": [
    "### I have written a small piece of code in python that calculates first 10 multiples of 5 "
   ]
  },
  {
   "cell_type": "code",
   "execution_count": 5,
   "id": "b0e0efcb",
   "metadata": {},
   "outputs": [
    {
     "name": "stdout",
     "output_type": "stream",
     "text": [
      "First 10 multiples of 5\n",
      "5\n",
      "10\n",
      "15\n",
      "20\n",
      "25\n",
      "30\n",
      "35\n",
      "40\n",
      "45\n",
      "50\n"
     ]
    }
   ],
   "source": [
    "def multiplesOfFive():\n",
    "    print(\"First 10 multiples of 5\")\n",
    "    for x in range(1,11):\n",
    "        print(5 * x);\n",
    "\n",
    "multiplesOfFive()"
   ]
  },
  {
   "cell_type": "markdown",
   "id": "4e8cf6c8",
   "metadata": {},
   "source": [
    "**Horizontal Rule**\n",
    "<br>\n",
    "<hr>\n",
    "<br>\n",
    "\n",
    "\n",
    "**Bullet List**\n",
    "<br>\n",
    "- Point One\n",
    "- Point Two\n",
    "<br>\n",
    "\n",
    "\n",
    "**Numbered List**\n",
    "<br>\n",
    "1. Point One\n",
    "2. Point Two\n",
    "<br>\n",
    "\n",
    "\n",
    "**Tables**\n",
    "<br>\n",
    "\n",
    "| A         | Table    |          \n",
    "| --------- | -------- |\n",
    "| End       | Table    |\n",
    "\n",
    "<br> \n",
    "\n",
    "**Hyperlinks**\n",
    "<br>\n",
    "[Link to Google homepage](https://www.google.com/)\n",
    "<br>\n",
    "\n",
    "\n",
    "**An Image**\n",
    "<br>\n",
    "<img src=\"https://imgur.com/gallery/SxSvqgf\" width=\"100\" height=\"100\">\n",
    "<br>\n",
    "\n",
    "**Code/Syntax Highlighting**\n",
    "<br>\n",
    "`x + 1 = 5`\n",
    "<br>\n",
    "\n",
    "\n",
    "**Blocked Qoutes**\n",
    "<br>\n",
    "> This is a sentence\n",
    "<blockqoute> This is another sentence </blockqoute>\n",
    "<br>\n",
    "\n",
    "\n",
    "**Strikethrough** \n",
    "<br>\n",
    "~Strikethrough~\n",
    "<br>"
   ]
  }
 ],
 "metadata": {
  "kernelspec": {
   "display_name": "Python 3 (ipykernel)",
   "language": "python",
   "name": "python3"
  },
  "language_info": {
   "codemirror_mode": {
    "name": "ipython",
    "version": 3
   },
   "file_extension": ".py",
   "mimetype": "text/x-python",
   "name": "python",
   "nbconvert_exporter": "python",
   "pygments_lexer": "ipython3",
   "version": "3.8.10"
  }
 },
 "nbformat": 4,
 "nbformat_minor": 5
}
